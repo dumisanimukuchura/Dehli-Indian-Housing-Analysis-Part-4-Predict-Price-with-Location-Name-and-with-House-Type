{
 "cells": [
  {
   "cell_type": "markdown",
   "id": "7430b958-9fa1-4989-9544-fb15a981ca46",
   "metadata": {},
   "source": [
    "## Dehli-Indian-Housing-Analysis-Part-4-Predict-Price-with-Location-Name-compare-with-Prediciting-with-House-Type by Dumisani Maxwell Mukuchura\n",
    "\n",
    "#### Dataset Source: *https://www.kaggle.com/datasets/bhavyadhingra00020/india-rental-house-price*\n",
    "\n",
    "##### Contact: dumisanimukuchura@gmail.com | LinkedIn: https://www.linkedin.com/in/dumisani-maxwell-mukuchura-4859b7170/\n",
    "\n",
    "##### This Project will explore the Dehli Indian Housing and build a model predicting rental price from Location Name and also from House Type i.e Compare of the 2 features which is better at Predicting Price.\n",
    "\n",
    "Building from Part 3 of this series we noticed Location in terms of Latitude and Longidude coordinates it was not the best Feature to use to Predict the Rental Prices."
   ]
  },
  {
   "cell_type": "markdown",
   "id": "4a100fd5-f1b6-4808-8ed3-71e49f710511",
   "metadata": {},
   "source": [
    "## 1. Prepare Data"
   ]
  },
  {
   "cell_type": "markdown",
   "id": "200c7f07-c9dc-4c82-880b-d53ee58cc233",
   "metadata": {},
   "source": [
    "### Modules and Library Import"
   ]
  },
  {
   "cell_type": "code",
   "execution_count": 7,
   "id": "955b5f74-115f-4353-94d3-b2cd644c190a",
   "metadata": {},
   "outputs": [],
   "source": [
    "# Library and Module import\n",
    "\n",
    "import os #For File and Directory Operations\n",
    "\n",
    "#For Data Manipulation and Visualization\n",
    "import pandas as pd\n",
    "import numpy as np\n",
    "import matplotlib.pyplot as plt\n",
    "\n",
    "#For One Hot Encoding Categorical Features\n",
    "from category_encoders import OneHotEncoder\n",
    "\n",
    "#For splitting the Data into Training and Test Data\n",
    "from sklearn.model_selection import train_test_split\n",
    "\n",
    "#For Model Building\n",
    "from sklearn.linear_model import LinearRegression, Ridge\n",
    "from sklearn.metrics import mean_absolute_error\n",
    "from sklearn.utils.validation import check_is_fitted"
   ]
  },
  {
   "cell_type": "code",
   "execution_count": 2,
   "id": "b521804e-cd22-4208-b22f-e7ff2da5ad7a",
   "metadata": {},
   "outputs": [
    {
     "data": {
      "text/html": [
       "<div>\n",
       "<style scoped>\n",
       "    .dataframe tbody tr th:only-of-type {\n",
       "        vertical-align: middle;\n",
       "    }\n",
       "\n",
       "    .dataframe tbody tr th {\n",
       "        vertical-align: top;\n",
       "    }\n",
       "\n",
       "    .dataframe thead th {\n",
       "        text-align: right;\n",
       "    }\n",
       "</style>\n",
       "<table border=\"1\" class=\"dataframe\">\n",
       "  <thead>\n",
       "    <tr style=\"text-align: right;\">\n",
       "      <th></th>\n",
       "      <th>house_type</th>\n",
       "      <th>location</th>\n",
       "      <th>city</th>\n",
       "      <th>latitude</th>\n",
       "      <th>longitude</th>\n",
       "      <th>price</th>\n",
       "      <th>currency</th>\n",
       "      <th>numBathrooms</th>\n",
       "      <th>numBalconies</th>\n",
       "      <th>isNegotiable</th>\n",
       "      <th>priceSqFt</th>\n",
       "      <th>verificationDate</th>\n",
       "      <th>description</th>\n",
       "      <th>SecurityDeposit</th>\n",
       "      <th>Status</th>\n",
       "      <th>numBedroom</th>\n",
       "      <th>house_layout</th>\n",
       "      <th>house_size_in_sqft</th>\n",
       "      <th>price_approx_usd</th>\n",
       "    </tr>\n",
       "  </thead>\n",
       "  <tbody>\n",
       "    <tr>\n",
       "      <th>0</th>\n",
       "      <td>Independent Floor</td>\n",
       "      <td>Guru Angad Nagar</td>\n",
       "      <td>Delhi</td>\n",
       "      <td>28.635309</td>\n",
       "      <td>77.224960</td>\n",
       "      <td>13000</td>\n",
       "      <td>INR</td>\n",
       "      <td>2.0</td>\n",
       "      <td>1.0</td>\n",
       "      <td>Negotiable</td>\n",
       "      <td>0.29</td>\n",
       "      <td>Posted 4 years ago</td>\n",
       "      <td>Itâs a 2 bhk builder floor situated in Guru ...</td>\n",
       "      <td>13,000</td>\n",
       "      <td>Unfurnished</td>\n",
       "      <td>2</td>\n",
       "      <td>BHK</td>\n",
       "      <td>517.0</td>\n",
       "      <td>151.59</td>\n",
       "    </tr>\n",
       "    <tr>\n",
       "      <th>1</th>\n",
       "      <td>Independent House</td>\n",
       "      <td>Tuglak Road</td>\n",
       "      <td>Delhi</td>\n",
       "      <td>28.595453</td>\n",
       "      <td>77.210335</td>\n",
       "      <td>2162955</td>\n",
       "      <td>INR</td>\n",
       "      <td>4.0</td>\n",
       "      <td>2.0</td>\n",
       "      <td>Not Negotiable</td>\n",
       "      <td>4.03</td>\n",
       "      <td>Posted a year ago</td>\n",
       "      <td>Well designed 5 bhk independent house is avail...</td>\n",
       "      <td>65,41,919</td>\n",
       "      <td>Unfurnished</td>\n",
       "      <td>5</td>\n",
       "      <td>BHK</td>\n",
       "      <td>6251.0</td>\n",
       "      <td>25221.02</td>\n",
       "    </tr>\n",
       "    <tr>\n",
       "      <th>2</th>\n",
       "      <td>Villa</td>\n",
       "      <td>Tuglak Road</td>\n",
       "      <td>Delhi</td>\n",
       "      <td>28.595453</td>\n",
       "      <td>77.210335</td>\n",
       "      <td>2010105</td>\n",
       "      <td>INR</td>\n",
       "      <td>4.0</td>\n",
       "      <td>2.0</td>\n",
       "      <td>Not Negotiable</td>\n",
       "      <td>4.21</td>\n",
       "      <td>Posted a year ago</td>\n",
       "      <td>Its four bhk villa in the super location of de...</td>\n",
       "      <td>60,10,155</td>\n",
       "      <td>Unfurnished</td>\n",
       "      <td>4</td>\n",
       "      <td>BHK</td>\n",
       "      <td>5562.0</td>\n",
       "      <td>23438.72</td>\n",
       "    </tr>\n",
       "    <tr>\n",
       "      <th>3</th>\n",
       "      <td>Independent Floor</td>\n",
       "      <td>Saket</td>\n",
       "      <td>Delhi</td>\n",
       "      <td>28.523548</td>\n",
       "      <td>77.200142</td>\n",
       "      <td>235562</td>\n",
       "      <td>INR</td>\n",
       "      <td>3.0</td>\n",
       "      <td>2.0</td>\n",
       "      <td>Not Negotiable</td>\n",
       "      <td>0.96</td>\n",
       "      <td>Posted a year ago</td>\n",
       "      <td>Itâs a 3 bhk builder floor situated in Saket...</td>\n",
       "      <td>7,51,225</td>\n",
       "      <td>Unfurnished</td>\n",
       "      <td>3</td>\n",
       "      <td>BHK</td>\n",
       "      <td>2855.0</td>\n",
       "      <td>2746.76</td>\n",
       "    </tr>\n",
       "    <tr>\n",
       "      <th>4</th>\n",
       "      <td>Independent Floor</td>\n",
       "      <td>Saket</td>\n",
       "      <td>Delhi</td>\n",
       "      <td>28.523548</td>\n",
       "      <td>77.200142</td>\n",
       "      <td>301011</td>\n",
       "      <td>INR</td>\n",
       "      <td>3.0</td>\n",
       "      <td>2.0</td>\n",
       "      <td>Not Negotiable</td>\n",
       "      <td>1.28</td>\n",
       "      <td>Posted a year ago</td>\n",
       "      <td>Well designed 3 bhk builder floor is available...</td>\n",
       "      <td>10,10,202</td>\n",
       "      <td>Unfurnished</td>\n",
       "      <td>3</td>\n",
       "      <td>BHK</td>\n",
       "      <td>2741.0</td>\n",
       "      <td>3509.92</td>\n",
       "    </tr>\n",
       "  </tbody>\n",
       "</table>\n",
       "</div>"
      ],
      "text/plain": [
       "           house_type          location   city   latitude  longitude    price  \\\n",
       "0  Independent Floor   Guru Angad Nagar  Delhi  28.635309  77.224960    13000   \n",
       "1  Independent House        Tuglak Road  Delhi  28.595453  77.210335  2162955   \n",
       "2              Villa        Tuglak Road  Delhi  28.595453  77.210335  2010105   \n",
       "3  Independent Floor              Saket  Delhi  28.523548  77.200142   235562   \n",
       "4  Independent Floor              Saket  Delhi  28.523548  77.200142   301011   \n",
       "\n",
       "  currency  numBathrooms  numBalconies    isNegotiable  priceSqFt  \\\n",
       "0      INR           2.0           1.0      Negotiable       0.29   \n",
       "1      INR           4.0           2.0  Not Negotiable       4.03   \n",
       "2      INR           4.0           2.0  Not Negotiable       4.21   \n",
       "3      INR           3.0           2.0  Not Negotiable       0.96   \n",
       "4      INR           3.0           2.0  Not Negotiable       1.28   \n",
       "\n",
       "     verificationDate                                        description  \\\n",
       "0  Posted 4 years ago  Itâs a 2 bhk builder floor situated in Guru ...   \n",
       "1   Posted a year ago  Well designed 5 bhk independent house is avail...   \n",
       "2   Posted a year ago  Its four bhk villa in the super location of de...   \n",
       "3   Posted a year ago  Itâs a 3 bhk builder floor situated in Saket...   \n",
       "4   Posted a year ago  Well designed 3 bhk builder floor is available...   \n",
       "\n",
       "  SecurityDeposit       Status  numBedroom house_layout  house_size_in_sqft  \\\n",
       "0          13,000  Unfurnished           2          BHK               517.0   \n",
       "1       65,41,919  Unfurnished           5          BHK              6251.0   \n",
       "2       60,10,155  Unfurnished           4          BHK              5562.0   \n",
       "3        7,51,225  Unfurnished           3          BHK              2855.0   \n",
       "4       10,10,202  Unfurnished           3          BHK              2741.0   \n",
       "\n",
       "   price_approx_usd  \n",
       "0            151.59  \n",
       "1          25221.02  \n",
       "2          23438.72  \n",
       "3           2746.76  \n",
       "4           3509.92  "
      ]
     },
     "execution_count": 2,
     "metadata": {},
     "output_type": "execute_result"
    }
   ],
   "source": [
    "# Import Data building from Part 3 where we have a Clean Data Frame\n",
    "\n",
    "#Get the current working directory\n",
    "current_dir = os.getcwd()\n",
    "\n",
    "#Trim to one level above\n",
    "base_dir = os.path.dirname(current_dir)\n",
    "\n",
    "#Construct the path to get the Data Folder\n",
    "data_dir = os.path.join(base_dir, \"data\")\n",
    "\n",
    "#Construct the full path to the CSV file\n",
    "csv_file_path = os.path.join(data_dir, \"Dehli-Indian-Housing-Clean-Data.csv\")\n",
    "\n",
    "#Read the csv file into a DataFrame\n",
    "housing_data = pd.read_csv(csv_file_path)\n",
    "\n",
    "#Make a copy to keep the original dataset intact\n",
    "housing_df = housing_data.copy()\n",
    "\n",
    "housing_df.head()"
   ]
  },
  {
   "cell_type": "markdown",
   "id": "c707081c-3564-428b-b957-cf13a8f74c08",
   "metadata": {},
   "source": [
    "## 2. Explore  "
   ]
  },
  {
   "cell_type": "markdown",
   "id": "a60f3afb-61e1-4e5c-abeb-d0e2522c9d7e",
   "metadata": {},
   "source": [
    "### Understand the Qualities of the 2 Features we shall need 'house_type' , 'location'"
   ]
  },
  {
   "cell_type": "code",
   "execution_count": 3,
   "id": "499330bf-a37d-422a-9789-06345f8a511d",
   "metadata": {},
   "outputs": [
    {
     "name": "stdout",
     "output_type": "stream",
     "text": [
      "Unique Values within Location Name: 139\n"
     ]
    }
   ],
   "source": [
    "# Find how many unique values are within the 2 Features we shall need to explore \n",
    "\n",
    "print(\"Unique Values within Location Name:\", housing_df[\"location\"].nunique())"
   ]
  },
  {
   "cell_type": "code",
   "execution_count": 5,
   "id": "0fcaee1a-a6f1-4e96-94cf-9505c483a3f0",
   "metadata": {},
   "outputs": [
    {
     "name": "stdout",
     "output_type": "stream",
     "text": [
      "Unique Values within Location Name: 6\n"
     ]
    }
   ],
   "source": [
    "print(\"Unique Values within Location Name:\", housing_df[\"house_type\"].nunique())"
   ]
  },
  {
   "cell_type": "code",
   "execution_count": 7,
   "id": "5849f83c-f0b6-4171-b379-0e78b51b628f",
   "metadata": {},
   "outputs": [
    {
     "name": "stdout",
     "output_type": "stream",
     "text": [
      "['Guru Angad Nagar' 'Tuglak Road' 'Saket' 'Maharani Bagh'\n",
      " 'New Friends Colony' 'Anand Niketan' 'Golf Links' 'Friends Colony'\n",
      " 'Geetanjali Enclave' 'Sarvodaya Enclave' 'New Moti Nagar' 'Shivalik'\n",
      " 'Malviya Nagar' 'Shahpur Jat Village' 'Sheikh Sarai' 'Naraina Vihar'\n",
      " 'Karampura' 'laxmi nagar' 'Mayur Vihar II' 'Rajinder Nagar'\n",
      " 'Vasant Vihar' 'Janakpuri' 'Greater Kailash' 'Defence Colony'\n",
      " 'Sunder Nagar' 'Jor bagh' 'mayur vihar phase 1' 'Shanti Niketan'\n",
      " 'Mayur Vihar Phase II' 'Niti Bagh' 'Safdarjung Enclave' 'Sarvpriya Vihar'\n",
      " 'West End' 'Sainik Farm' 'Hauz Khas' 'Navjeevan Vihar' 'Ghitorni'\n",
      " 'Vasant Kunj' 'Chattarpur' 'Prithviraj Road' 'Malcha Marg'\n",
      " 'Greater Kailash II' 'Panchsheel Park' 'Panchsheel Enclave' 'Lodhi Road'\n",
      " 'Tilak Marg' 'Gulmohar park' 'Mahavir Enclave' 'Sector 2 Dwarka'\n",
      " 'Sector 3 Dwarka' 'New Rajinder Nagar' 'Aurungzeb Road'\n",
      " 'Amrita Shergill Marg' 'Babar Road' 'Lodhi Gardens' 'Lodhi Estate'\n",
      " 'Green Park Extension' 'Green Park' 'Uday Park' 'East Patel Nagar'\n",
      " 'New Rajendra Nagar' 'Greater kailash 1' 'Kalkaji' 'Old Rajender Nagar'\n",
      " 'IP Extension' 'Mayur Vihar 2 Phase' 'Sector 12 Dwarka'\n",
      " 'Sector 14 Dwarka' 'Sector 7 Dwarka' 'Dwarka 11 Sector'\n",
      " 'Sector 11 Dwarka' 'dwarka sector 12' 'Sector 9 Dwarka' 'East of Kailash'\n",
      " 'Patel Nagar' 'i p extension patparganj' 'Anand Vihar' 'Kailash Colony'\n",
      " 'Prakash Mohalla' 'Hemkunt Colony' 'Moti Nagar' 'Lajpat Nagar II'\n",
      " 'Connaught Place' 'Uttam Nagar west' 'Patparganj' 'Uttam Nagar'\n",
      " 'Baljeet Nagar' 'Pitampura' 'PANCHSHEEL VIHAR'\n",
      " 'Westend DLF Chattarpur Farms' 'Abul Fazal Enclave Jamia Nagar'\n",
      " 'South Extension 2' 'Subhash Nagar' 'Fateh Nagar' 'Kohat Enclave'\n",
      " 'Pitampura Vaishali' 'Rohini sector 16' 'Block A3' 'Uttam Nagar East'\n",
      " 'Jhil Mil Colony' 'Yojna Vihar' 'West Patel Nagar' 'C R Park'\n",
      " 'Chittaranjan Park' 'Sector 22 Dwarka' 'Jasola' 'Bawana'\n",
      " 'West Punjabi Bagh' 'Burari' 'Shakti Nagar' 'Sarita Vihar'\n",
      " 'Sector 3 Rohini' 'Mandawali' 'Gautam Nagar' 'Manglapuri'\n",
      " 'Vinod Nagar East' 'Sector 22 Rohini' 'Sheikh Sarai Village'\n",
      " 'Shakurpur Colony' 'Punjabi Bagh' 'Dwarka Mor' 'Nangloi' 'Nehru Place'\n",
      " 'Mayur Vihar' 'Nangli Sakrawati' 'Vishnu Garden' 'Sector 34 Rohini'\n",
      " 'Vasant Kunj Enclave' 'Santnagar' 'Sector 23 Dwarka' 'Paschim Vihar'\n",
      " 'Kasturba Gandhi Marg' 'Vipin Garden' 'Rajouri Garden' 'Sector 9 Rohini'\n",
      " 'Sector-7 Rohini' 'West Patel Nagar Road' 'dda flat' 'Nawada']\n"
     ]
    }
   ],
   "source": [
    "#Print the Unique Values in Location Name column\n",
    "\n",
    "print(housing_df[\"location\"].unique())"
   ]
  },
  {
   "cell_type": "code",
   "execution_count": 6,
   "id": "95b01bde-4db0-4f73-ae26-36ba74a1f6bc",
   "metadata": {},
   "outputs": [
    {
     "name": "stdout",
     "output_type": "stream",
     "text": [
      "['Independent Floor ' 'Independent House ' 'Villa ' 'Apartment '\n",
      " 'Studio Apartment ' 'penthouse ']\n"
     ]
    }
   ],
   "source": [
    "#Print the Unique Values in House Type column \n",
    "\n",
    "print(housing_df[\"house_type\"].unique())"
   ]
  },
  {
   "cell_type": "markdown",
   "id": "869f7ce4-4a03-4e62-8245-3f33b40cbe6c",
   "metadata": {},
   "source": [
    "From this Exploration it is clear that the Location Names are many; 139 of them and we must navigate such High Cardinal Feature in a way that keeps perfomance without eating away compute, on the other end with House Type we only have 6 which can be worked with/ We proceed now to deal with the categorical Features for the Model Building"
   ]
  },
  {
   "cell_type": "code",
   "execution_count": 9,
   "id": "300dc528-fdc7-45f3-8efc-5437e895f48e",
   "metadata": {},
   "outputs": [
    {
     "name": "stdout",
     "output_type": "stream",
     "text": [
      "<class 'pandas.core.frame.DataFrame'>\n",
      "RangeIndex: 2171 entries, 0 to 2170\n",
      "Data columns (total 2 columns):\n",
      " #   Column      Non-Null Count  Dtype \n",
      "---  ------      --------------  ----- \n",
      " 0   house_type  2171 non-null   object\n",
      " 1   location    2171 non-null   object\n",
      "dtypes: object(2)\n",
      "memory usage: 34.1+ KB\n"
     ]
    }
   ],
   "source": [
    "# Check the number of Non Null Values in the Features of Interest\n",
    "\n",
    "housing_df[[\"house_type\", \"location\"]].info()"
   ]
  },
  {
   "cell_type": "markdown",
   "id": "080cfa4b-b943-48f1-a728-f81de41e5a9d",
   "metadata": {},
   "source": [
    "There are no Null Values within those Features."
   ]
  },
  {
   "cell_type": "markdown",
   "id": "ce7b058f-eaa2-496e-be99-f314a6940318",
   "metadata": {},
   "source": [
    "## 3. Split Data "
   ]
  },
  {
   "cell_type": "markdown",
   "id": "b1314b09-7527-428f-947d-f6192da3c238",
   "metadata": {},
   "source": [
    "### Splitting Data for Location Feature"
   ]
  },
  {
   "cell_type": "code",
   "execution_count": 10,
   "id": "1b598f21-2ff5-42a3-9cdd-b72bc4f963dc",
   "metadata": {},
   "outputs": [
    {
     "name": "stdout",
     "output_type": "stream",
     "text": [
      "X_train_loc:\n",
      "                 location\n",
      "555                Saket\n",
      "1435        Vasant Vihar\n",
      "588        Gulmohar park\n",
      "1532  Safdarjung Enclave\n",
      "20         Anand Niketan\n",
      "X_test_loc:\n",
      "              location\n",
      "1652         Jor bagh\n",
      "342      Sunder Nagar\n",
      "1342  Panchsheel Park\n",
      "765     Anand Niketan\n",
      "865      Vasant Vihar\n",
      "y_train_loc:\n",
      " 555     3510.05\n",
      "1435    3512.41\n",
      "588     3511.12\n",
      "1532    7463.90\n",
      "20      4222.55\n",
      "Name: price_approx_usd, dtype: float64\n",
      "y_test_loc:\n",
      " 1652    5877.04\n",
      "342     3509.93\n",
      "1342     757.93\n",
      "765     3509.93\n",
      "865     3509.92\n",
      "Name: price_approx_usd, dtype: float64\n"
     ]
    }
   ],
   "source": [
    "# Splitting Data for Location Feature\n",
    "feature = [\"location\"]\n",
    "target = \"price_approx_usd\"\n",
    "X_loc = housing_df[feature]\n",
    "y_loc = housing_df[target] \n",
    "\n",
    "X_train_loc, X_test_loc, y_train_loc, y_test_loc = train_test_split(X_loc, y_loc, test_size=0.2, random_state=42)  # test_size=0.2 means 20% of data goes to test set\n",
    "\n",
    "#Confirm the Split \n",
    "print(\"X_train_loc:\\n\", X_train_loc.head())\n",
    "print(\"X_test_loc:\\n\", X_test_loc.head())\n",
    "print(\"y_train_loc:\\n\", y_train_loc.head())\n",
    "print(\"y_test_loc:\\n\", y_test_loc.head())"
   ]
  },
  {
   "cell_type": "markdown",
   "id": "5bc923c4-c830-4836-95ec-04ba027eca0b",
   "metadata": {},
   "source": [
    "### Splitting Data for House Type Feature"
   ]
  },
  {
   "cell_type": "code",
   "execution_count": 11,
   "id": "ac255b21-3901-4a33-8a32-e7a1ddfbb31a",
   "metadata": {},
   "outputs": [
    {
     "name": "stdout",
     "output_type": "stream",
     "text": [
      "X_train_hse_type:\n",
      "               house_type\n",
      "555   Independent Floor \n",
      "1435  Independent Floor \n",
      "588   Independent Floor \n",
      "1532  Independent House \n",
      "20    Independent Floor \n",
      "X_test_hse_type:\n",
      "               house_type\n",
      "1652  Independent Floor \n",
      "342   Independent Floor \n",
      "1342  Independent Floor \n",
      "765   Independent Floor \n",
      "865   Independent Floor \n",
      "y_train_hse_type:\n",
      " 555     3510.05\n",
      "1435    3512.41\n",
      "588     3511.12\n",
      "1532    7463.90\n",
      "20      4222.55\n",
      "Name: price_approx_usd, dtype: float64\n",
      "y_test_hse_type:\n",
      " 1652    5877.04\n",
      "342     3509.93\n",
      "1342     757.93\n",
      "765     3509.93\n",
      "865     3509.92\n",
      "Name: price_approx_usd, dtype: float64\n"
     ]
    }
   ],
   "source": [
    "# Splitting Data for Location Feature\n",
    "feature = [\"house_type\"]\n",
    "target = \"price_approx_usd\"\n",
    "X_hse_type = housing_df[feature]\n",
    "y_hse_type = housing_df[target] \n",
    "\n",
    "X_train_hse_type, X_test_hse_type, y_train_hse_type, y_test_hse_type = train_test_split(X_hse_type, y_hse_type, test_size=0.2, random_state=42)  # test_size=0.2 means 20% of data goes to test set\n",
    "\n",
    "#Confirm the Split \n",
    "print(\"X_train_hse_type:\\n\", X_train_hse_type.head())\n",
    "print(\"X_test_hse_type:\\n\", X_test_hse_type.head())\n",
    "print(\"y_train_hse_type:\\n\", y_train_hse_type.head())\n",
    "print(\"y_test_hse_type:\\n\", y_test_hse_type.head())"
   ]
  },
  {
   "cell_type": "code",
   "execution_count": null,
   "id": "7caf1f99-e382-46df-9a3d-997457aa79c5",
   "metadata": {},
   "outputs": [],
   "source": []
  }
 ],
 "metadata": {
  "kernelspec": {
   "display_name": "Python 3 (ipykernel)",
   "language": "python",
   "name": "python3"
  },
  "language_info": {
   "codemirror_mode": {
    "name": "ipython",
    "version": 3
   },
   "file_extension": ".py",
   "mimetype": "text/x-python",
   "name": "python",
   "nbconvert_exporter": "python",
   "pygments_lexer": "ipython3",
   "version": "3.12.4"
  }
 },
 "nbformat": 4,
 "nbformat_minor": 5
}
