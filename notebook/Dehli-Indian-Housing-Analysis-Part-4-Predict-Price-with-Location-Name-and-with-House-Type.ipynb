{
 "cells": [
  {
   "cell_type": "markdown",
   "id": "7430b958-9fa1-4989-9544-fb15a981ca46",
   "metadata": {},
   "source": [
    "## Dehli-Indian-Housing-Analysis-Part-4-Predict-Price-with-Location-Name-compare-with-Prediciting-with-House-Type by Dumisani Maxwell Mukuchura\n",
    "\n",
    "#### Dataset Source: *https://www.kaggle.com/datasets/bhavyadhingra00020/india-rental-house-price*\n",
    "\n",
    "##### Contact: dumisanimukuchura@gmail.com | LinkedIn: https://www.linkedin.com/in/dumisani-maxwell-mukuchura-4859b7170/\n",
    "\n",
    "##### This Project will explore the Dehli Indian Housing and build a model predicting rental price from Location Name and also from House Type i.e Compare of the 2 features which is better at Predicting Price.\n",
    "\n",
    "Building from Part 3 of this series we noticed Location in terms of Latitude and Longidude coordinates it was not the best Feature to use to Predict the Rental Prices."
   ]
  },
  {
   "cell_type": "markdown",
   "id": "4a100fd5-f1b6-4808-8ed3-71e49f710511",
   "metadata": {},
   "source": [
    "## 1. Prepare Data"
   ]
  },
  {
   "cell_type": "markdown",
   "id": "200c7f07-c9dc-4c82-880b-d53ee58cc233",
   "metadata": {},
   "source": [
    "### Modules and Library Import"
   ]
  },
  {
   "cell_type": "code",
   "execution_count": 1,
   "id": "955b5f74-115f-4353-94d3-b2cd644c190a",
   "metadata": {},
   "outputs": [
    {
     "ename": "ModuleNotFoundError",
     "evalue": "No module named 'category_encoders'",
     "output_type": "error",
     "traceback": [
      "\u001b[1;31m---------------------------------------------------------------------------\u001b[0m",
      "\u001b[1;31mModuleNotFoundError\u001b[0m                       Traceback (most recent call last)",
      "Cell \u001b[1;32mIn[1], line 11\u001b[0m\n\u001b[0;32m      8\u001b[0m \u001b[38;5;28;01mimport\u001b[39;00m \u001b[38;5;21;01mmatplotlib\u001b[39;00m\u001b[38;5;21;01m.\u001b[39;00m\u001b[38;5;21;01mpyplot\u001b[39;00m \u001b[38;5;28;01mas\u001b[39;00m \u001b[38;5;21;01mplt\u001b[39;00m\n\u001b[0;32m     10\u001b[0m \u001b[38;5;66;03m#For One Hot Encoding Categorical Features\u001b[39;00m\n\u001b[1;32m---> 11\u001b[0m \u001b[38;5;28;01mfrom\u001b[39;00m \u001b[38;5;21;01mcategory_encoders\u001b[39;00m \u001b[38;5;28;01mimport\u001b[39;00m OneHotEncoder \n\u001b[0;32m     13\u001b[0m \u001b[38;5;66;03m#For Model Building\u001b[39;00m\n\u001b[0;32m     14\u001b[0m \u001b[38;5;28;01mfrom\u001b[39;00m \u001b[38;5;21;01msklearn\u001b[39;00m\u001b[38;5;21;01m.\u001b[39;00m\u001b[38;5;21;01mlinear_model\u001b[39;00m \u001b[38;5;28;01mimport\u001b[39;00m LinearRegression, Ridge\n",
      "\u001b[1;31mModuleNotFoundError\u001b[0m: No module named 'category_encoders'"
     ]
    }
   ],
   "source": [
    "# Library and Module import\n",
    "\n",
    "import os #For File and Directory Operations\n",
    "\n",
    "#For Data Manipulation and Visualization\n",
    "import pandas as pd\n",
    "import numpy as np\n",
    "import matplotlib.pyplot as plt\n",
    "\n",
    "#For One Hot Encoding Categorical Features\n",
    "from category_encoders import OneHotEncoder\n",
    "\n",
    "#For Model Building\n",
    "from sklearn.linear_model import LinearRegression, Ridge\n",
    "from sklearn.metrics import mean_absolute_error\n",
    "from sklearn.utils.validation import check_is_fitted"
   ]
  },
  {
   "cell_type": "code",
   "execution_count": null,
   "id": "b521804e-cd22-4208-b22f-e7ff2da5ad7a",
   "metadata": {},
   "outputs": [],
   "source": []
  }
 ],
 "metadata": {
  "kernelspec": {
   "display_name": "Python 3 (ipykernel)",
   "language": "python",
   "name": "python3"
  },
  "language_info": {
   "codemirror_mode": {
    "name": "ipython",
    "version": 3
   },
   "file_extension": ".py",
   "mimetype": "text/x-python",
   "name": "python",
   "nbconvert_exporter": "python",
   "pygments_lexer": "ipython3",
   "version": "3.12.4"
  }
 },
 "nbformat": 4,
 "nbformat_minor": 5
}
